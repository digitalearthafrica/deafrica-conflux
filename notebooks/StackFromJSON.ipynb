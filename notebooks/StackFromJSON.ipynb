{
 "cells": [
  {
   "cell_type": "code",
   "execution_count": null,
   "id": "220e1229-271f-43a8-847b-eb082f298628",
   "metadata": {},
   "outputs": [],
   "source": [
    "import os\n",
    "# These are the default AWS configurations for the Analysis Sandbox.\n",
    "# that are set in the environmnet variables. \n",
    "aws_default_config = {\n",
    "    #'AWS_NO_SIGN_REQUEST': 'YES', \n",
    "    'AWS_SECRET_ACCESS_KEY': 'fake',\n",
    "    'AWS_ACCESS_KEY_ID': 'fake',\n",
    "}\n",
    "\n",
    "# To access public bucket, need to remove the AWS credentials in \n",
    "# the environment variables or the following error will occur.\n",
    "# PermissionError: The AWS Access Key Id you provided does not exist in our records.\n",
    "\n",
    "for key in aws_default_config.keys():\n",
    "    if key in os.environ:\n",
    "        del os.environ[key]"
   ]
  },
  {
   "cell_type": "code",
   "execution_count": null,
   "id": "89d02233-2a4f-4bd8-a438-cba2c8c3d433",
   "metadata": {},
   "outputs": [],
   "source": [
    "import json\n",
    "import logging\n",
    "\n",
    "import click\n",
    "import fsspec\n",
    "\n",
    "from deafrica_conflux.cli.logs import logging_setup\n",
    "from deafrica_conflux.io import check_dir_exists, check_file_exists, check_if_s3_uri\n",
    "from deafrica_conflux.stack import stack_waterbodies_parquet_to_csv"
   ]
  },
  {
   "cell_type": "code",
   "execution_count": null,
   "id": "26c32345-a175-45be-8aa0-bd50bc14c0dc",
   "metadata": {},
   "outputs": [],
   "source": [
    "verbose = 1\n",
    "# Path to the directory containing the parquet files output during polygon drill.\n",
    "drill_output_directory = \"s3://deafrica-waterbodies-dev/waterbodies/v0.0.2/senegal_basin/conflux/drill_pq_files\"\n",
    "# Path to the directory write the csvs to\n",
    "output_directory = \"s3://deafrica-waterbodies-dev/waterbodies/v0.0.2/senegal_basin/surface_area_change\"\n",
    "# JSON file containing the polygons ids.\n",
    "polygon_ids_mapping_file = \"s3://deafrica-waterbodies-dev/waterbodies/v0.0.2/senegal_basin/conflux/historical_extent_rasters/polygon_ids_mapping.json\""
   ]
  },
  {
   "cell_type": "code",
   "execution_count": null,
   "id": "02d5e499-d30b-4ad7-9c44-ba79564c73d8",
   "metadata": {},
   "outputs": [],
   "source": [
    "# Set up logger.\n",
    "logging_setup(verbose)\n",
    "_log = logging.getLogger(__name__)"
   ]
  },
  {
   "cell_type": "code",
   "execution_count": null,
   "id": "4bdf430c-4d87-4b8a-aad0-bc38ce8624fe",
   "metadata": {},
   "outputs": [],
   "source": [
    "# Support pathlib Paths\n",
    "output_directory = str(output_directory)\n",
    "drill_output_directory = str(drill_output_directory)\n",
    "polygon_ids_mapping_file = str(polygon_ids_mapping_file)"
   ]
  },
  {
   "cell_type": "code",
   "execution_count": null,
   "id": "7c2575bf-6ede-48c9-a3df-932220c97c17",
   "metadata": {},
   "outputs": [],
   "source": [
    "if not check_dir_exists(drill_output_directory):\n",
    "    _log.error(f\"Directory {drill_output_directory} does not exist!\")\n",
    "    raise FileNotFoundError(f\"Directory {drill_output_directory} does not exist!)\")\n",
    "\n",
    "# Create the output directory if it does not exist.\n",
    "if not check_dir_exists(output_directory):\n",
    "    if check_if_s3_uri(output_directory):\n",
    "        fsspec.filesystem(\"s3\").makedirs(output_directory, exist_ok=True)\n",
    "    else:\n",
    "        fsspec.filesystem(\"file\").makedirs(output_directory, exist_ok=True)\n",
    "    _log.info(f\"Created directory {output_directory}\")\n",
    "\n",
    "if not check_file_exists(polygon_ids_mapping_file):\n",
    "    _log.error(f\"File {polygon_ids_mapping_file} does not exist!\")\n",
    "    raise FileNotFoundError(f\"File {polygon_ids_mapping_file} does not exist!)\")"
   ]
  },
  {
   "cell_type": "code",
   "execution_count": null,
   "id": "1a26f104-8966-486e-8f8c-75338f36ed66",
   "metadata": {},
   "outputs": [],
   "source": [
    "# Read the polygons ids mapping file.\n",
    "if check_if_s3_uri(polygon_ids_mapping_file):\n",
    "    fs = fsspec.filesystem(\"s3\")\n",
    "else:\n",
    "    fs = fsspec.filesystem(\"file\")\n",
    "\n",
    "with fs.open(polygon_ids_mapping_file) as f:\n",
    "    polygon_ids_mapping = json.load(f)\n",
    "\n",
    "# Find all the drill output parquet files\n",
    "polygon_ids = list(polygon_ids_mapping.values())"
   ]
  },
  {
   "cell_type": "code",
   "execution_count": null,
   "id": "89bd9f62-e99f-44ab-a02b-43678fc2353a",
   "metadata": {},
   "outputs": [],
   "source": [
    "for polygon_id in polygon_ids:\n",
    "    stack_waterbodies_parquet_to_csv(\n",
    "        polygon_id=polygon_id,\n",
    "        drill_output_directory=drill_output_directory,\n",
    "        output_directory=output_directory,\n",
    "    )"
   ]
  }
 ],
 "metadata": {
  "kernelspec": {
   "display_name": "Python 3 (ipykernel)",
   "language": "python",
   "name": "python3"
  },
  "language_info": {
   "codemirror_mode": {
    "name": "ipython",
    "version": 3
   },
   "file_extension": ".py",
   "mimetype": "text/x-python",
   "name": "python",
   "nbconvert_exporter": "python",
   "pygments_lexer": "ipython3",
   "version": "3.10.12"
  }
 },
 "nbformat": 4,
 "nbformat_minor": 5
}
