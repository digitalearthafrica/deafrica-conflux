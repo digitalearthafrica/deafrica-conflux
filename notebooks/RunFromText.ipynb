{
 "cells": [
  {
   "cell_type": "code",
   "execution_count": 1,
   "id": "40945bc4-a1e3-4894-aecf-490ba221ce35",
   "metadata": {},
   "outputs": [],
   "source": [
    "import os\n",
    "# These are the default AWS configurations for the Analysis Sandbox.\n",
    "# that are set in the environmnet variables. \n",
    "aws_default_config = {\n",
    "    #'AWS_NO_SIGN_REQUEST': 'YES', \n",
    "    'AWS_SECRET_ACCESS_KEY': 'fake',\n",
    "    'AWS_ACCESS_KEY_ID': 'fake',\n",
    "}\n",
    "\n",
    "# To access public bucket, need to remove the AWS credentials in \n",
    "# the environment variables or the following error will occur.\n",
    "# PermissionError: The AWS Access Key Id you provided does not exist in our records.\n",
    "\n",
    "for key in aws_default_config.keys():\n",
    "    if key in os.environ:\n",
    "        del os.environ[key]"
   ]
  },
  {
   "cell_type": "code",
   "execution_count": 2,
   "id": "e7bf3dbc-a461-4639-9770-b622a698846d",
   "metadata": {},
   "outputs": [],
   "source": [
    "import logging\n",
    "import os\n",
    "from importlib import import_module\n",
    "\n",
    "import click\n",
    "import datacube\n",
    "import fsspec\n",
    "from odc import dscache\n",
    "from odc.aws import s3_download\n",
    "from rasterio.errors import RasterioIOError\n",
    "\n",
    "from deafrica_conflux.cli.logs import logging_setup\n",
    "from deafrica_conflux.db import get_engine_waterbodies\n",
    "from deafrica_conflux.drill import drill\n",
    "from deafrica_conflux.io import (\n",
    "    check_dir_exists,\n",
    "    check_file_exists,\n",
    "    check_if_s3_uri,\n",
    "    table_exists,\n",
    "    write_table_to_parquet,\n",
    ")\n",
    "from deafrica_conflux.plugins.utils import run_plugin, validate_plugin\n",
    "from deafrica_conflux.stack import stack_waterbodies_parquet_to_db"
   ]
  },
  {
   "cell_type": "code",
   "execution_count": 3,
   "id": "5d58273a-5eea-48bc-8b46-a2edade04e99",
   "metadata": {},
   "outputs": [],
   "source": [
    "verbose = 1\n",
    "# File path to the cache file database.\n",
    "cachedb_file_path = \"s3://deafrica-waterbodies-dev/waterbodies/v0.0.2/senegal_basin/conflux/wofs_ls_2023-03--P3M.db\"\n",
    "# Text file to get tasks ids from.\n",
    "tasks_text_file = \"s3://deafrica-waterbodies-dev/waterbodies/v0.0.2/senegal_basin/conflux/wofs_ls_2023-03--P3M_tasks.txt\"\n",
    "# Name of the plugin. Plugin file must be in the\n",
    "# deafrica_conflux/plugins/ directory.\n",
    "plugin_name = \"waterbodies_timeseries_v2\"\n",
    "# Path to the directory containing the polygons raster files.\n",
    "polygons_rasters_directory = \"s3://deafrica-waterbodies-dev/waterbodies/v0.0.2/senegal_basin/conflux/historical_extent_rasters\"\n",
    "# Directory to write the drill outputs to.\n",
    "output_directory = \"s3://deafrica-waterbodies-dev/waterbodies/v0.0.2/senegal_basin/conflux/drill_pq_files\"\n",
    "# Rerun tasks that have already been processed.\n",
    "overwrite = True\n",
    "# Write to the Waterbodies database.\n",
    "db = False\n",
    "# Not matter DataFrame is empty or not, always as it as Parquet file.\n",
    "dump_empty_dataframe = True"
   ]
  },
  {
   "cell_type": "code",
   "execution_count": 4,
   "id": "2ade937d-61b1-4ff6-b4de-ada9117b70b0",
   "metadata": {},
   "outputs": [],
   "source": [
    "# Set up logger.\n",
    "logging_setup(verbose)\n",
    "_log = logging.getLogger(__name__)"
   ]
  },
  {
   "cell_type": "code",
   "execution_count": 5,
   "id": "555e847b-eca0-47eb-9ac3-b24699873cd1",
   "metadata": {},
   "outputs": [],
   "source": [
    "# Support pathlib Paths\n",
    "cachedb_file_path = str(cachedb_file_path)\n",
    "tasks_text_file = str(tasks_text_file)\n",
    "polygons_rasters_directory = str(polygons_rasters_directory)\n",
    "output_directory = str(output_directory)"
   ]
  },
  {
   "cell_type": "code",
   "execution_count": 6,
   "id": "514327ad-fb6c-442c-a7ae-ab97b37bbec9",
   "metadata": {},
   "outputs": [
    {
     "name": "stdout",
     "output_type": "stream",
     "text": [
      "[2023-12-04 18:59:14,099] {2585789683.py:5} INFO - Using plugin /home/jovyan/dev/deafrica-conflux/deafrica_conflux/plugins/waterbodies_timeseries_v2.py\n"
     ]
    }
   ],
   "source": [
    "# Read the plugin as a Python module.\n",
    "module = import_module(f\"deafrica_conflux.plugins.{plugin_name}\")\n",
    "plugin_file = module.__file__\n",
    "plugin = run_plugin(plugin_file)\n",
    "_log.info(f\"Using plugin {plugin_file}\")\n",
    "validate_plugin(plugin)\n",
    "\n",
    "# Get the drill name from the plugin\n",
    "drill_name = plugin.product_name"
   ]
  },
  {
   "cell_type": "code",
   "execution_count": 7,
   "id": "00dd9f9c-4c3d-4c6e-b9c6-aba2d2ace952",
   "metadata": {},
   "outputs": [
    {
     "name": "stdout",
     "output_type": "stream",
     "text": [
      "[2023-12-04 18:59:14,310] {credentials.py:611} INFO - Found credentials in shared credentials file: ~/.aws/credentials\n"
     ]
    }
   ],
   "source": [
    "if not check_dir_exists(polygons_rasters_directory):\n",
    "    _log.error(f\"Directory {polygons_rasters_directory} does not exist!\")\n",
    "    raise FileNotFoundError(f\"Directory {polygons_rasters_directory} does not exist!)\")"
   ]
  },
  {
   "cell_type": "code",
   "execution_count": 8,
   "id": "718ad0a3-2ed6-4b73-928a-f807c6b86c2b",
   "metadata": {},
   "outputs": [
    {
     "name": "stdout",
     "output_type": "stream",
     "text": [
      "[2023-12-04 18:59:14,590] {562408864.py:7} INFO - Created directory s3://deafrica-waterbodies-dev/waterbodies/v0.0.2/senegal_basin/conflux/drill_pq_files\n"
     ]
    }
   ],
   "source": [
    "# Create the output directory if it does not exist.\n",
    "if not check_dir_exists(output_directory):\n",
    "    if check_if_s3_uri(output_directory):\n",
    "        fsspec.filesystem(\"s3\").makedirs(output_directory, exist_ok=True)\n",
    "    else:\n",
    "        fsspec.filesystem(\"file\").makedirs(output_directory, exist_ok=True)\n",
    "    _log.info(f\"Created directory {output_directory}\")"
   ]
  },
  {
   "cell_type": "code",
   "execution_count": 9,
   "id": "c41944f4-1761-40a6-92d3-defa0f0d414f",
   "metadata": {},
   "outputs": [],
   "source": [
    "if not check_file_exists(cachedb_file_path):\n",
    "    _log.error(f\"Could not find the database file {cachedb_file_path}!\")\n",
    "    raise FileNotFoundError(f\"{cachedb_file_path} does not exist!\")\n",
    "else:\n",
    "    if check_if_s3_uri(cachedb_file_path):\n",
    "        cachedb_file_path = s3_download(cachedb_file_path)\n",
    "        if not check_file_exists(cachedb_file_path):\n",
    "            _log.error(f\"{cachedb_file_path} did not download!\")\n",
    "            raise FileNotFoundError(\n",
    "                f\"{cachedb_file_path} does not exist! File did not download.\"\n",
    "            )"
   ]
  },
  {
   "cell_type": "code",
   "execution_count": 10,
   "id": "82b9b4a6-2ea3-4402-b57a-8195d46d6cc1",
   "metadata": {},
   "outputs": [],
   "source": [
    "if not check_file_exists(tasks_text_file):\n",
    "    _log.error(f\"Could not find the text file {tasks_text_file}!\")\n",
    "    raise FileNotFoundError(f\"Could not find text file {tasks_text_file}!\")"
   ]
  },
  {
   "cell_type": "code",
   "execution_count": 11,
   "id": "3b84aeef-1ef1-4f20-94b5-36db7b4518b5",
   "metadata": {},
   "outputs": [
    {
     "name": "stdout",
     "output_type": "stream",
     "text": [
      "[2023-12-04 18:59:15,385] {3293637472.py:9} INFO - Read 1715 tasks from file.\n"
     ]
    }
   ],
   "source": [
    "# Read task ids from the S3 URI or File URI.\n",
    "if check_if_s3_uri(tasks_text_file):\n",
    "    fs = fsspec.filesystem(\"s3\")\n",
    "else:\n",
    "    fs = fsspec.filesystem(\"file\")\n",
    "\n",
    "with fs.open(tasks_text_file, \"r\") as file:\n",
    "    tasks = [line.strip() for line in file]\n",
    "_log.info(f\"Read {len(tasks)} tasks from file.\")\n",
    "_log.debug(f\"Read {tasks} from file.\")"
   ]
  },
  {
   "cell_type": "code",
   "execution_count": 12,
   "id": "5877809d-000f-46cb-90b8-9cf77e3f633a",
   "metadata": {},
   "outputs": [
    {
     "name": "stderr",
     "output_type": "stream",
     "text": [
      "/usr/local/lib/python3.10/dist-packages/datacube/utils/documents.py:216: DeprecationWarning: jsonschema.RefResolver is deprecated as of v4.18.0, in favor of the https://github.com/python-jsonschema/referencing library, which provides more compliant referencing behavior as well as more flexible APIs for customization. A future release will remove RefResolver. Please file a feature request (on referencing) if you are missing an API for the kind of customization you need.\n",
      "  ref_resolver = jsonschema.RefResolver.from_schema(\n"
     ]
    }
   ],
   "source": [
    "if db:\n",
    "    engine = get_engine_waterbodies()\n",
    "\n",
    "# Connect to the datacube\n",
    "dc = datacube.Datacube(app=\"deafrica-conflux-drill\")\n",
    "\n",
    "# Read the cache file\n",
    "cache = dscache.open_ro(cachedb_file_path)"
   ]
  },
  {
   "cell_type": "code",
   "execution_count": 13,
   "id": "5a766eb2-0ee9-4ec3-8c20-c0c7049a1379",
   "metadata": {},
   "outputs": [
    {
     "data": {
      "text/plain": [
       "10"
      ]
     },
     "execution_count": 13,
     "metadata": {},
     "output_type": "execute_result"
    }
   ],
   "source": [
    "# For testing ony run the first 10 tasks.\n",
    "tasks = tasks[:10]\n",
    "len(tasks)"
   ]
  },
  {
   "cell_type": "code",
   "execution_count": 14,
   "id": "59833800-a3e2-43a4-bd9e-2bdd58bb8b14",
   "metadata": {},
   "outputs": [
    {
     "name": "stdout",
     "output_type": "stream",
     "text": [
      "[2023-12-04 18:59:15,627] {1312493662.py:3} INFO - Processing task 2023-03-01/171/092 (1/10)\n",
      "[2023-12-04 18:59:15,629] {drill.py:335} INFO - Finding polygon raster tile....\n",
      "[2023-12-04 18:59:15,764] {io.py:445} INFO - Found 1 GeoTIFF files.\n",
      "[2023-12-04 18:59:15,890] {drill.py:345} INFO - Loaded s3://deafrica-waterbodies-dev/waterbodies/v0.0.2/senegal_basin/conflux/historical_extent_rasters/x171_y092.tif\n",
      "[2023-12-04 18:59:15,904] {drill.py:371} INFO - Query object to use for loading data {'resampling': 'nearest', 'dask_chunks': {'x': 3200, 'y': 3200}, 'group_by': 'solar_day', 'like': GeoBox(3200, 3200, Affine(30.0, 0.0, -960000.0,\n",
      "       0.0, -30.0, 1536000.0), PROJCS[\"WGS 84 / NSIDC EASE-Grid 2.0 Global\",GEOGCS[\"WGS 84\",DATUM[\"WGS_1984\",SPHEROID[\"WGS 84\",6378137,298.257223563,AUTHORITY[\"EPSG\",\"7030\"]],AUTHORITY[\"EPSG\",\"6326\"]],PRIMEM[\"Greenwich\",0,AUTHORITY[\"EPSG\",\"8901\"]],UNIT[\"degree\",0.0174532925199433,AUTHORITY[\"EPSG\",\"9122\"]],AUTHORITY[\"EPSG\",\"4326\"]],PROJECTION[\"Cylindrical_Equal_Area\"],PARAMETER[\"standard_parallel_1\",30],PARAMETER[\"central_meridian\",0],PARAMETER[\"false_easting\",0],PARAMETER[\"false_northing\",0],UNIT[\"metre\",1,AUTHORITY[\"EPSG\",\"9001\"]],AXIS[\"Easting\",EAST],AXIS[\"Northing\",NORTH],AUTHORITY[\"EPSG\",\"6933\"]]), 'measurements': ['water'], 'datasets': [Dataset <id=6c9d5905-97b0-575a-afcc-ee9dc71039de product=wofs_ls location=s3://deafrica-services/wofs_ls/1-0-0/199/052/2023/03/01/wofs_ls_199052_2023-03-01.stac-item.json>]}\n",
      "[2023-12-04 18:59:16,999] {io.py:146} INFO - Created directory: s3://deafrica-waterbodies-dev/waterbodies/v0.0.2/senegal_basin/conflux/drill_pq_files/2023-03-01\n",
      "[2023-12-04 18:59:17,160] {io.py:152} INFO - Table written to s3://deafrica-waterbodies-dev/waterbodies/v0.0.2/senegal_basin/conflux/drill_pq_files/2023-03-01/waterbodies_x171y092_2023-03-01.pq\n",
      "[2023-12-04 18:59:17,162] {1312493662.py:51} INFO - Task 2023-03-01/171/092 successful\n",
      "[2023-12-04 18:59:17,162] {1312493662.py:3} INFO - Processing task 2023-03-01/172/092 (2/10)\n",
      "[2023-12-04 18:59:17,163] {drill.py:335} INFO - Finding polygon raster tile....\n",
      "[2023-12-04 18:59:17,196] {io.py:445} INFO - Found 1 GeoTIFF files.\n",
      "[2023-12-04 18:59:17,273] {drill.py:345} INFO - Loaded s3://deafrica-waterbodies-dev/waterbodies/v0.0.2/senegal_basin/conflux/historical_extent_rasters/x172_y092.tif\n",
      "[2023-12-04 18:59:17,275] {drill.py:371} INFO - Query object to use for loading data {'resampling': 'nearest', 'dask_chunks': {'x': 3200, 'y': 3200}, 'group_by': 'solar_day', 'like': GeoBox(3200, 3200, Affine(30.0, 0.0, -864000.0,\n",
      "       0.0, -30.0, 1536000.0), PROJCS[\"WGS 84 / NSIDC EASE-Grid 2.0 Global\",GEOGCS[\"WGS 84\",DATUM[\"WGS_1984\",SPHEROID[\"WGS 84\",6378137,298.257223563,AUTHORITY[\"EPSG\",\"7030\"]],AUTHORITY[\"EPSG\",\"6326\"]],PRIMEM[\"Greenwich\",0,AUTHORITY[\"EPSG\",\"8901\"]],UNIT[\"degree\",0.0174532925199433,AUTHORITY[\"EPSG\",\"9122\"]],AUTHORITY[\"EPSG\",\"4326\"]],PROJECTION[\"Cylindrical_Equal_Area\"],PARAMETER[\"standard_parallel_1\",30],PARAMETER[\"central_meridian\",0],PARAMETER[\"false_easting\",0],PARAMETER[\"false_northing\",0],UNIT[\"metre\",1,AUTHORITY[\"EPSG\",\"9001\"]],AXIS[\"Easting\",EAST],AXIS[\"Northing\",NORTH],AUTHORITY[\"EPSG\",\"6933\"]]), 'measurements': ['water'], 'datasets': [Dataset <id=6c9d5905-97b0-575a-afcc-ee9dc71039de product=wofs_ls location=s3://deafrica-services/wofs_ls/1-0-0/199/052/2023/03/01/wofs_ls_199052_2023-03-01.stac-item.json>]}\n",
      "[2023-12-04 18:59:18,025] {io.py:152} INFO - Table written to s3://deafrica-waterbodies-dev/waterbodies/v0.0.2/senegal_basin/conflux/drill_pq_files/2023-03-01/waterbodies_x172y092_2023-03-01.pq\n",
      "[2023-12-04 18:59:18,026] {1312493662.py:51} INFO - Task 2023-03-01/172/092 successful\n",
      "[2023-12-04 18:59:18,028] {1312493662.py:3} INFO - Processing task 2023-03-01/172/093 (3/10)\n",
      "[2023-12-04 18:59:18,028] {drill.py:335} INFO - Finding polygon raster tile....\n",
      "[2023-12-04 18:59:18,054] {io.py:445} INFO - Found 1 GeoTIFF files.\n",
      "[2023-12-04 18:59:18,083] {drill.py:345} INFO - Loaded s3://deafrica-waterbodies-dev/waterbodies/v0.0.2/senegal_basin/conflux/historical_extent_rasters/x172_y093.tif\n",
      "[2023-12-04 18:59:18,084] {drill.py:371} INFO - Query object to use for loading data {'resampling': 'nearest', 'dask_chunks': {'x': 3200, 'y': 3200}, 'group_by': 'solar_day', 'like': GeoBox(3200, 3200, Affine(30.0, 0.0, -864000.0,\n",
      "       0.0, -30.0, 1632000.0), PROJCS[\"WGS 84 / NSIDC EASE-Grid 2.0 Global\",GEOGCS[\"WGS 84\",DATUM[\"WGS_1984\",SPHEROID[\"WGS 84\",6378137,298.257223563,AUTHORITY[\"EPSG\",\"7030\"]],AUTHORITY[\"EPSG\",\"6326\"]],PRIMEM[\"Greenwich\",0,AUTHORITY[\"EPSG\",\"8901\"]],UNIT[\"degree\",0.0174532925199433,AUTHORITY[\"EPSG\",\"9122\"]],AUTHORITY[\"EPSG\",\"4326\"]],PROJECTION[\"Cylindrical_Equal_Area\"],PARAMETER[\"standard_parallel_1\",30],PARAMETER[\"central_meridian\",0],PARAMETER[\"false_easting\",0],PARAMETER[\"false_northing\",0],UNIT[\"metre\",1,AUTHORITY[\"EPSG\",\"9001\"]],AXIS[\"Easting\",EAST],AXIS[\"Northing\",NORTH],AUTHORITY[\"EPSG\",\"6933\"]]), 'measurements': ['water'], 'datasets': [Dataset <id=adf4e256-58b0-5c6d-abe8-da8a5af59000 product=wofs_ls location=s3://deafrica-services/wofs_ls/1-0-0/199/051/2023/03/01/wofs_ls_199051_2023-03-01.stac-item.json>, Dataset <id=6c9d5905-97b0-575a-afcc-ee9dc71039de product=wofs_ls location=s3://deafrica-services/wofs_ls/1-0-0/199/052/2023/03/01/wofs_ls_199052_2023-03-01.stac-item.json>]}\n",
      "[2023-12-04 18:59:18,960] {io.py:152} INFO - Table written to s3://deafrica-waterbodies-dev/waterbodies/v0.0.2/senegal_basin/conflux/drill_pq_files/2023-03-01/waterbodies_x172y093_2023-03-01.pq\n",
      "[2023-12-04 18:59:18,961] {1312493662.py:51} INFO - Task 2023-03-01/172/093 successful\n",
      "[2023-12-04 18:59:18,963] {1312493662.py:3} INFO - Processing task 2023-03-01/172/094 (4/10)\n",
      "[2023-12-04 18:59:18,965] {drill.py:335} INFO - Finding polygon raster tile....\n",
      "[2023-12-04 18:59:18,991] {io.py:445} INFO - Found 1 GeoTIFF files.\n",
      "[2023-12-04 18:59:19,025] {drill.py:345} INFO - Loaded s3://deafrica-waterbodies-dev/waterbodies/v0.0.2/senegal_basin/conflux/historical_extent_rasters/x172_y094.tif\n",
      "[2023-12-04 18:59:19,028] {drill.py:371} INFO - Query object to use for loading data {'resampling': 'nearest', 'dask_chunks': {'x': 3200, 'y': 3200}, 'group_by': 'solar_day', 'like': GeoBox(3200, 3200, Affine(30.0, 0.0, -864000.0,\n",
      "       0.0, -30.0, 1728000.0), PROJCS[\"WGS 84 / NSIDC EASE-Grid 2.0 Global\",GEOGCS[\"WGS 84\",DATUM[\"WGS_1984\",SPHEROID[\"WGS 84\",6378137,298.257223563,AUTHORITY[\"EPSG\",\"7030\"]],AUTHORITY[\"EPSG\",\"6326\"]],PRIMEM[\"Greenwich\",0,AUTHORITY[\"EPSG\",\"8901\"]],UNIT[\"degree\",0.0174532925199433,AUTHORITY[\"EPSG\",\"9122\"]],AUTHORITY[\"EPSG\",\"4326\"]],PROJECTION[\"Cylindrical_Equal_Area\"],PARAMETER[\"standard_parallel_1\",30],PARAMETER[\"central_meridian\",0],PARAMETER[\"false_easting\",0],PARAMETER[\"false_northing\",0],UNIT[\"metre\",1,AUTHORITY[\"EPSG\",\"9001\"]],AXIS[\"Easting\",EAST],AXIS[\"Northing\",NORTH],AUTHORITY[\"EPSG\",\"6933\"]]), 'measurements': ['water'], 'datasets': [Dataset <id=adf4e256-58b0-5c6d-abe8-da8a5af59000 product=wofs_ls location=s3://deafrica-services/wofs_ls/1-0-0/199/051/2023/03/01/wofs_ls_199051_2023-03-01.stac-item.json>, Dataset <id=8f718c66-2ad3-55d5-a7dd-1b74c28230e9 product=wofs_ls location=s3://deafrica-services/wofs_ls/1-0-0/199/050/2023/03/01/wofs_ls_199050_2023-03-01.stac-item.json>]}\n",
      "[2023-12-04 18:59:19,945] {io.py:152} INFO - Table written to s3://deafrica-waterbodies-dev/waterbodies/v0.0.2/senegal_basin/conflux/drill_pq_files/2023-03-01/waterbodies_x172y094_2023-03-01.pq\n",
      "[2023-12-04 18:59:19,947] {1312493662.py:51} INFO - Task 2023-03-01/172/094 successful\n",
      "[2023-12-04 18:59:19,948] {1312493662.py:3} INFO - Processing task 2023-03-01/172/095 (5/10)\n",
      "[2023-12-04 18:59:19,949] {drill.py:335} INFO - Finding polygon raster tile....\n",
      "[2023-12-04 18:59:19,975] {io.py:445} INFO - Found 1 GeoTIFF files.\n",
      "[2023-12-04 18:59:19,999] {drill.py:345} INFO - Loaded s3://deafrica-waterbodies-dev/waterbodies/v0.0.2/senegal_basin/conflux/historical_extent_rasters/x172_y095.tif\n",
      "[2023-12-04 18:59:20,002] {drill.py:371} INFO - Query object to use for loading data {'resampling': 'nearest', 'dask_chunks': {'x': 3200, 'y': 3200}, 'group_by': 'solar_day', 'like': GeoBox(3200, 3200, Affine(30.0, 0.0, -864000.0,\n",
      "       0.0, -30.0, 1824000.0), PROJCS[\"WGS 84 / NSIDC EASE-Grid 2.0 Global\",GEOGCS[\"WGS 84\",DATUM[\"WGS_1984\",SPHEROID[\"WGS 84\",6378137,298.257223563,AUTHORITY[\"EPSG\",\"7030\"]],AUTHORITY[\"EPSG\",\"6326\"]],PRIMEM[\"Greenwich\",0,AUTHORITY[\"EPSG\",\"8901\"]],UNIT[\"degree\",0.0174532925199433,AUTHORITY[\"EPSG\",\"9122\"]],AUTHORITY[\"EPSG\",\"4326\"]],PROJECTION[\"Cylindrical_Equal_Area\"],PARAMETER[\"standard_parallel_1\",30],PARAMETER[\"central_meridian\",0],PARAMETER[\"false_easting\",0],PARAMETER[\"false_northing\",0],UNIT[\"metre\",1,AUTHORITY[\"EPSG\",\"9001\"]],AXIS[\"Easting\",EAST],AXIS[\"Northing\",NORTH],AUTHORITY[\"EPSG\",\"6933\"]]), 'measurements': ['water'], 'datasets': [Dataset <id=adf4e256-58b0-5c6d-abe8-da8a5af59000 product=wofs_ls location=s3://deafrica-services/wofs_ls/1-0-0/199/051/2023/03/01/wofs_ls_199051_2023-03-01.stac-item.json>, Dataset <id=8f718c66-2ad3-55d5-a7dd-1b74c28230e9 product=wofs_ls location=s3://deafrica-services/wofs_ls/1-0-0/199/050/2023/03/01/wofs_ls_199050_2023-03-01.stac-item.json>]}\n",
      "[2023-12-04 18:59:20,963] {io.py:152} INFO - Table written to s3://deafrica-waterbodies-dev/waterbodies/v0.0.2/senegal_basin/conflux/drill_pq_files/2023-03-01/waterbodies_x172y095_2023-03-01.pq\n",
      "[2023-12-04 18:59:20,965] {1312493662.py:51} INFO - Task 2023-03-01/172/095 successful\n",
      "[2023-12-04 18:59:20,966] {1312493662.py:3} INFO - Processing task 2023-03-01/172/096 (6/10)\n",
      "[2023-12-04 18:59:20,967] {drill.py:335} INFO - Finding polygon raster tile....\n",
      "[2023-12-04 18:59:20,990] {io.py:445} INFO - Found 1 GeoTIFF files.\n",
      "[2023-12-04 18:59:21,024] {drill.py:345} INFO - Loaded s3://deafrica-waterbodies-dev/waterbodies/v0.0.2/senegal_basin/conflux/historical_extent_rasters/x172_y096.tif\n",
      "[2023-12-04 18:59:21,027] {drill.py:371} INFO - Query object to use for loading data {'resampling': 'nearest', 'dask_chunks': {'x': 3200, 'y': 3200}, 'group_by': 'solar_day', 'like': GeoBox(3200, 3200, Affine(30.0, 0.0, -864000.0,\n",
      "       0.0, -30.0, 1920000.0), PROJCS[\"WGS 84 / NSIDC EASE-Grid 2.0 Global\",GEOGCS[\"WGS 84\",DATUM[\"WGS_1984\",SPHEROID[\"WGS 84\",6378137,298.257223563,AUTHORITY[\"EPSG\",\"7030\"]],AUTHORITY[\"EPSG\",\"6326\"]],PRIMEM[\"Greenwich\",0,AUTHORITY[\"EPSG\",\"8901\"]],UNIT[\"degree\",0.0174532925199433,AUTHORITY[\"EPSG\",\"9122\"]],AUTHORITY[\"EPSG\",\"4326\"]],PROJECTION[\"Cylindrical_Equal_Area\"],PARAMETER[\"standard_parallel_1\",30],PARAMETER[\"central_meridian\",0],PARAMETER[\"false_easting\",0],PARAMETER[\"false_northing\",0],UNIT[\"metre\",1,AUTHORITY[\"EPSG\",\"9001\"]],AXIS[\"Easting\",EAST],AXIS[\"Northing\",NORTH],AUTHORITY[\"EPSG\",\"6933\"]]), 'measurements': ['water'], 'datasets': [Dataset <id=f6bbb525-9007-5895-9cfe-1feaef6ceb5c product=wofs_ls location=s3://deafrica-services/wofs_ls/1-0-0/199/049/2023/03/01/wofs_ls_199049_2023-03-01.stac-item.json>, Dataset <id=8f718c66-2ad3-55d5-a7dd-1b74c28230e9 product=wofs_ls location=s3://deafrica-services/wofs_ls/1-0-0/199/050/2023/03/01/wofs_ls_199050_2023-03-01.stac-item.json>]}\n",
      "[2023-12-04 18:59:21,752] {io.py:152} INFO - Table written to s3://deafrica-waterbodies-dev/waterbodies/v0.0.2/senegal_basin/conflux/drill_pq_files/2023-03-01/waterbodies_x172y096_2023-03-01.pq\n",
      "[2023-12-04 18:59:21,753] {1312493662.py:51} INFO - Task 2023-03-01/172/096 successful\n",
      "[2023-12-04 18:59:21,755] {1312493662.py:3} INFO - Processing task 2023-03-01/172/097 (7/10)\n",
      "[2023-12-04 18:59:21,756] {drill.py:335} INFO - Finding polygon raster tile....\n",
      "[2023-12-04 18:59:21,779] {io.py:445} INFO - Found 1 GeoTIFF files.\n",
      "[2023-12-04 18:59:21,818] {drill.py:345} INFO - Loaded s3://deafrica-waterbodies-dev/waterbodies/v0.0.2/senegal_basin/conflux/historical_extent_rasters/x172_y097.tif\n",
      "[2023-12-04 18:59:21,821] {drill.py:371} INFO - Query object to use for loading data {'resampling': 'nearest', 'dask_chunks': {'x': 3200, 'y': 3200}, 'group_by': 'solar_day', 'like': GeoBox(3200, 3200, Affine(30.0, 0.0, -864000.0,\n",
      "       0.0, -30.0, 2016000.0), PROJCS[\"WGS 84 / NSIDC EASE-Grid 2.0 Global\",GEOGCS[\"WGS 84\",DATUM[\"WGS_1984\",SPHEROID[\"WGS 84\",6378137,298.257223563,AUTHORITY[\"EPSG\",\"7030\"]],AUTHORITY[\"EPSG\",\"6326\"]],PRIMEM[\"Greenwich\",0,AUTHORITY[\"EPSG\",\"8901\"]],UNIT[\"degree\",0.0174532925199433,AUTHORITY[\"EPSG\",\"9122\"]],AUTHORITY[\"EPSG\",\"4326\"]],PROJECTION[\"Cylindrical_Equal_Area\"],PARAMETER[\"standard_parallel_1\",30],PARAMETER[\"central_meridian\",0],PARAMETER[\"false_easting\",0],PARAMETER[\"false_northing\",0],UNIT[\"metre\",1,AUTHORITY[\"EPSG\",\"9001\"]],AXIS[\"Easting\",EAST],AXIS[\"Northing\",NORTH],AUTHORITY[\"EPSG\",\"6933\"]]), 'measurements': ['water'], 'datasets': [Dataset <id=f6bbb525-9007-5895-9cfe-1feaef6ceb5c product=wofs_ls location=s3://deafrica-services/wofs_ls/1-0-0/199/049/2023/03/01/wofs_ls_199049_2023-03-01.stac-item.json>, Dataset <id=8f718c66-2ad3-55d5-a7dd-1b74c28230e9 product=wofs_ls location=s3://deafrica-services/wofs_ls/1-0-0/199/050/2023/03/01/wofs_ls_199050_2023-03-01.stac-item.json>]}\n",
      "[2023-12-04 18:59:22,436] {io.py:152} INFO - Table written to s3://deafrica-waterbodies-dev/waterbodies/v0.0.2/senegal_basin/conflux/drill_pq_files/2023-03-01/waterbodies_x172y097_2023-03-01.pq\n",
      "[2023-12-04 18:59:22,437] {1312493662.py:51} INFO - Task 2023-03-01/172/097 successful\n",
      "[2023-12-04 18:59:22,438] {1312493662.py:3} INFO - Processing task 2023-03-01/173/094 (8/10)\n",
      "[2023-12-04 18:59:22,439] {drill.py:335} INFO - Finding polygon raster tile....\n",
      "[2023-12-04 18:59:22,467] {io.py:445} INFO - Found 1 GeoTIFF files.\n",
      "[2023-12-04 18:59:22,491] {drill.py:345} INFO - Loaded s3://deafrica-waterbodies-dev/waterbodies/v0.0.2/senegal_basin/conflux/historical_extent_rasters/x173_y094.tif\n",
      "[2023-12-04 18:59:22,493] {drill.py:371} INFO - Query object to use for loading data {'resampling': 'nearest', 'dask_chunks': {'x': 3200, 'y': 3200}, 'group_by': 'solar_day', 'like': GeoBox(3200, 3200, Affine(30.0, 0.0, -768000.0,\n",
      "       0.0, -30.0, 1728000.0), PROJCS[\"WGS 84 / NSIDC EASE-Grid 2.0 Global\",GEOGCS[\"WGS 84\",DATUM[\"WGS_1984\",SPHEROID[\"WGS 84\",6378137,298.257223563,AUTHORITY[\"EPSG\",\"7030\"]],AUTHORITY[\"EPSG\",\"6326\"]],PRIMEM[\"Greenwich\",0,AUTHORITY[\"EPSG\",\"8901\"]],UNIT[\"degree\",0.0174532925199433,AUTHORITY[\"EPSG\",\"9122\"]],AUTHORITY[\"EPSG\",\"4326\"]],PROJECTION[\"Cylindrical_Equal_Area\"],PARAMETER[\"standard_parallel_1\",30],PARAMETER[\"central_meridian\",0],PARAMETER[\"false_easting\",0],PARAMETER[\"false_northing\",0],UNIT[\"metre\",1,AUTHORITY[\"EPSG\",\"9001\"]],AXIS[\"Easting\",EAST],AXIS[\"Northing\",NORTH],AUTHORITY[\"EPSG\",\"6933\"]]), 'measurements': ['water'], 'datasets': [Dataset <id=adf4e256-58b0-5c6d-abe8-da8a5af59000 product=wofs_ls location=s3://deafrica-services/wofs_ls/1-0-0/199/051/2023/03/01/wofs_ls_199051_2023-03-01.stac-item.json>, Dataset <id=8f718c66-2ad3-55d5-a7dd-1b74c28230e9 product=wofs_ls location=s3://deafrica-services/wofs_ls/1-0-0/199/050/2023/03/01/wofs_ls_199050_2023-03-01.stac-item.json>]}\n",
      "[2023-12-04 18:59:23,343] {io.py:152} INFO - Table written to s3://deafrica-waterbodies-dev/waterbodies/v0.0.2/senegal_basin/conflux/drill_pq_files/2023-03-01/waterbodies_x173y094_2023-03-01.pq\n",
      "[2023-12-04 18:59:23,344] {1312493662.py:51} INFO - Task 2023-03-01/173/094 successful\n",
      "[2023-12-04 18:59:23,345] {1312493662.py:3} INFO - Processing task 2023-03-01/173/095 (9/10)\n",
      "[2023-12-04 18:59:23,346] {drill.py:335} INFO - Finding polygon raster tile....\n",
      "[2023-12-04 18:59:23,373] {io.py:445} INFO - Found 1 GeoTIFF files.\n",
      "[2023-12-04 18:59:23,408] {drill.py:345} INFO - Loaded s3://deafrica-waterbodies-dev/waterbodies/v0.0.2/senegal_basin/conflux/historical_extent_rasters/x173_y095.tif\n",
      "[2023-12-04 18:59:23,410] {drill.py:371} INFO - Query object to use for loading data {'resampling': 'nearest', 'dask_chunks': {'x': 3200, 'y': 3200}, 'group_by': 'solar_day', 'like': GeoBox(3200, 3200, Affine(30.0, 0.0, -768000.0,\n",
      "       0.0, -30.0, 1824000.0), PROJCS[\"WGS 84 / NSIDC EASE-Grid 2.0 Global\",GEOGCS[\"WGS 84\",DATUM[\"WGS_1984\",SPHEROID[\"WGS 84\",6378137,298.257223563,AUTHORITY[\"EPSG\",\"7030\"]],AUTHORITY[\"EPSG\",\"6326\"]],PRIMEM[\"Greenwich\",0,AUTHORITY[\"EPSG\",\"8901\"]],UNIT[\"degree\",0.0174532925199433,AUTHORITY[\"EPSG\",\"9122\"]],AUTHORITY[\"EPSG\",\"4326\"]],PROJECTION[\"Cylindrical_Equal_Area\"],PARAMETER[\"standard_parallel_1\",30],PARAMETER[\"central_meridian\",0],PARAMETER[\"false_easting\",0],PARAMETER[\"false_northing\",0],UNIT[\"metre\",1,AUTHORITY[\"EPSG\",\"9001\"]],AXIS[\"Easting\",EAST],AXIS[\"Northing\",NORTH],AUTHORITY[\"EPSG\",\"6933\"]]), 'measurements': ['water'], 'datasets': [Dataset <id=adf4e256-58b0-5c6d-abe8-da8a5af59000 product=wofs_ls location=s3://deafrica-services/wofs_ls/1-0-0/199/051/2023/03/01/wofs_ls_199051_2023-03-01.stac-item.json>, Dataset <id=8f718c66-2ad3-55d5-a7dd-1b74c28230e9 product=wofs_ls location=s3://deafrica-services/wofs_ls/1-0-0/199/050/2023/03/01/wofs_ls_199050_2023-03-01.stac-item.json>]}\n",
      "[2023-12-04 18:59:24,403] {io.py:152} INFO - Table written to s3://deafrica-waterbodies-dev/waterbodies/v0.0.2/senegal_basin/conflux/drill_pq_files/2023-03-01/waterbodies_x173y095_2023-03-01.pq\n",
      "[2023-12-04 18:59:24,404] {1312493662.py:51} INFO - Task 2023-03-01/173/095 successful\n",
      "[2023-12-04 18:59:24,405] {1312493662.py:3} INFO - Processing task 2023-03-01/173/096 (10/10)\n",
      "[2023-12-04 18:59:24,406] {drill.py:335} INFO - Finding polygon raster tile....\n",
      "[2023-12-04 18:59:24,434] {io.py:445} INFO - Found 1 GeoTIFF files.\n",
      "[2023-12-04 18:59:24,454] {drill.py:345} INFO - Loaded s3://deafrica-waterbodies-dev/waterbodies/v0.0.2/senegal_basin/conflux/historical_extent_rasters/x173_y096.tif\n",
      "[2023-12-04 18:59:24,456] {drill.py:371} INFO - Query object to use for loading data {'resampling': 'nearest', 'dask_chunks': {'x': 3200, 'y': 3200}, 'group_by': 'solar_day', 'like': GeoBox(3200, 3200, Affine(30.0, 0.0, -768000.0,\n",
      "       0.0, -30.0, 1920000.0), PROJCS[\"WGS 84 / NSIDC EASE-Grid 2.0 Global\",GEOGCS[\"WGS 84\",DATUM[\"WGS_1984\",SPHEROID[\"WGS 84\",6378137,298.257223563,AUTHORITY[\"EPSG\",\"7030\"]],AUTHORITY[\"EPSG\",\"6326\"]],PRIMEM[\"Greenwich\",0,AUTHORITY[\"EPSG\",\"8901\"]],UNIT[\"degree\",0.0174532925199433,AUTHORITY[\"EPSG\",\"9122\"]],AUTHORITY[\"EPSG\",\"4326\"]],PROJECTION[\"Cylindrical_Equal_Area\"],PARAMETER[\"standard_parallel_1\",30],PARAMETER[\"central_meridian\",0],PARAMETER[\"false_easting\",0],PARAMETER[\"false_northing\",0],UNIT[\"metre\",1,AUTHORITY[\"EPSG\",\"9001\"]],AXIS[\"Easting\",EAST],AXIS[\"Northing\",NORTH],AUTHORITY[\"EPSG\",\"6933\"]]), 'measurements': ['water'], 'datasets': [Dataset <id=f6bbb525-9007-5895-9cfe-1feaef6ceb5c product=wofs_ls location=s3://deafrica-services/wofs_ls/1-0-0/199/049/2023/03/01/wofs_ls_199049_2023-03-01.stac-item.json>, Dataset <id=8f718c66-2ad3-55d5-a7dd-1b74c28230e9 product=wofs_ls location=s3://deafrica-services/wofs_ls/1-0-0/199/050/2023/03/01/wofs_ls_199050_2023-03-01.stac-item.json>]}\n",
      "[2023-12-04 18:59:25,354] {io.py:152} INFO - Table written to s3://deafrica-waterbodies-dev/waterbodies/v0.0.2/senegal_basin/conflux/drill_pq_files/2023-03-01/waterbodies_x173y096_2023-03-01.pq\n",
      "[2023-12-04 18:59:25,355] {1312493662.py:51} INFO - Task 2023-03-01/173/096 successful\n"
     ]
    }
   ],
   "source": [
    "failed_tasks = []\n",
    "for i, task in enumerate(tasks):\n",
    "    _log.info(f\"Processing task {task} ({i + 1}/{len(tasks)})\")\n",
    "\n",
    "    # Get the tasks output file name.\n",
    "    if not overwrite:\n",
    "        _log.info(f\"Checking existence of {task}\")\n",
    "        exists = table_exists(\n",
    "            drill_name=drill_name, task_id_string=task, output_directory=output_directory\n",
    "        )\n",
    "    if overwrite or not exists:\n",
    "        try:\n",
    "            # Perform the polygon drill.\n",
    "            table = drill(\n",
    "                plugin=plugin,\n",
    "                task_id_string=task,\n",
    "                cache=cache,\n",
    "                polygon_rasters_split_by_tile_directory=polygons_rasters_directory,\n",
    "                dc=dc,\n",
    "            )\n",
    "            # Write the table to a parquet file.\n",
    "            if (dump_empty_dataframe) or (not table.empty):\n",
    "                pq_file_name = write_table_to_parquet(\n",
    "                    drill_name=drill_name,\n",
    "                    task_id_string=task,\n",
    "                    table=table,\n",
    "                    output_directory=output_directory,\n",
    "                )\n",
    "                if db:\n",
    "                    _log.info(f\"Writing {pq_file_name} to database\")\n",
    "                    stack_waterbodies_parquet_to_db(\n",
    "                        parquet_file_paths=[pq_file_name],\n",
    "                        verbose=verbose,\n",
    "                        engine=engine,\n",
    "                        drop=False,\n",
    "                    )\n",
    "\n",
    "        except KeyError as keyerr:\n",
    "            _log.exception(f\"Found task {task} has KeyError: {str(keyerr)}\")\n",
    "            failed_tasks = [].append(task)\n",
    "        except TypeError as typeerr:\n",
    "            _log.exception(f\"Found task {task} has TypeError: {str(typeerr)}\")\n",
    "            failed_tasks.append(task)\n",
    "        except RasterioIOError as ioerror:\n",
    "            _log.exception(f\"Found task {task} has RasterioIOError: {str(ioerror)}\")\n",
    "            failed_tasks.append(task)\n",
    "        except ValueError as valueerror:\n",
    "            _log.exception(f\"Found task {task} has ValueError: {str(valueerror)}\")\n",
    "            failed_tasks.append(task)\n",
    "        else:\n",
    "            _log.info(f\"Task {task} successful\")\n",
    "    else:\n",
    "        _log.info(f\"Drill output for {task} already exists, skipping\")\n",
    "\n",
    "    if failed_tasks:\n",
    "        # Write the failed dataset ids to a text file.\n",
    "        parent_folder, file_name = os.path.split(tasks_text_file)\n",
    "        file, file_extension = os.path.splitext(file_name)\n",
    "        failed_tasks_text_file = os.path.join(\n",
    "            parent_folder, file + \"_failed_tasks\" + file_extension\n",
    "        )\n",
    "\n",
    "        with fs.open(failed_tasks_text_file, \"a\") as file:\n",
    "            for task in failed_tasks:\n",
    "                file.write(f\"{task}\\n\")\n",
    "\n",
    "        _log.info(f\"Failed tasks {failed_tasks} written to: {failed_tasks_text_file}.\")"
   ]
  }
 ],
 "metadata": {
  "kernelspec": {
   "display_name": "Python 3 (ipykernel)",
   "language": "python",
   "name": "python3"
  },
  "language_info": {
   "codemirror_mode": {
    "name": "ipython",
    "version": 3
   },
   "file_extension": ".py",
   "mimetype": "text/x-python",
   "name": "python",
   "nbconvert_exporter": "python",
   "pygments_lexer": "ipython3",
   "version": "3.10.12"
  }
 },
 "nbformat": 4,
 "nbformat_minor": 5
}
