{
 "cells": [
  {
   "cell_type": "code",
   "execution_count": 1,
   "id": "40945bc4-a1e3-4894-aecf-490ba221ce35",
   "metadata": {},
   "outputs": [],
   "source": [
    "import os\n",
    "# These are the default AWS configurations for the Analysis Sandbox.\n",
    "# that are set in the environmnet variables. \n",
    "aws_default_config = {\n",
    "    #'AWS_NO_SIGN_REQUEST': 'YES', \n",
    "    'AWS_SECRET_ACCESS_KEY': 'fake',\n",
    "    'AWS_ACCESS_KEY_ID': 'fake',\n",
    "}\n",
    "\n",
    "# To access public bucket, need to remove the AWS credentials in \n",
    "# the environment variables or the following error will occur.\n",
    "# PermissionError: The AWS Access Key Id you provided does not exist in our records.\n",
    "\n",
    "for key in aws_default_config.keys():\n",
    "    if key in os.environ:\n",
    "        del os.environ[key]"
   ]
  },
  {
   "cell_type": "code",
   "execution_count": 2,
   "id": "e7bf3dbc-a461-4639-9770-b622a698846d",
   "metadata": {},
   "outputs": [],
   "source": [
    "import json\n",
    "import logging\n",
    "import os\n",
    "from importlib import import_module\n",
    "\n",
    "import click\n",
    "import datacube\n",
    "import fsspec\n",
    "from odc import dscache\n",
    "from odc.aws import s3_download\n",
    "from rasterio.errors import RasterioIOError\n",
    "\n",
    "from deafrica_conflux.cli.logs import logging_setup\n",
    "from deafrica_conflux.drill import drill\n",
    "from deafrica_conflux.io import (\n",
    "    check_dir_exists,\n",
    "    check_file_exists,\n",
    "    check_if_s3_uri,\n",
    "    table_exists,\n",
    "    write_table_to_parquet,\n",
    ")\n",
    "from deafrica_conflux.plugins.utils import run_plugin, validate_plugin"
   ]
  },
  {
   "cell_type": "code",
   "execution_count": 3,
   "id": "5d58273a-5eea-48bc-8b46-a2edade04e99",
   "metadata": {},
   "outputs": [],
   "source": [
    "verbose = 1\n",
    "# File path to the cache file database.\n",
    "cachedb_file_path = \"s3://deafrica-waterbodies-dev/waterbodies/v0.0.2/senegal_basin/conflux/wofs_ls_2023-03--P3M.db\"\n",
    "# Text file to get tasks ids from.\n",
    "tasks_text_file = \"s3://deafrica-waterbodies-dev/waterbodies/v0.0.2/senegal_basin/conflux/wofs_ls_2023-03--P3M_tasks.txt\"\n",
    "# Name of the plugin. Plugin file must be in the\n",
    "# deafrica_conflux/plugins/ directory.\n",
    "plugin_name = \"waterbodies_timeseries\"\n",
    "# Path to the directory containing the polygons raster files.\n",
    "polygons_rasters_directory = \"s3://deafrica-waterbodies-dev/waterbodies/v0.0.2/senegal_basin/conflux/historical_extent_rasters\"\n",
    "# JSON file containing the polygons ids.\n",
    "polygon_ids_mapping_file = \"s3://deafrica-waterbodies-dev/waterbodies/v0.0.2/senegal_basin/conflux/historical_extent_rasters/polygon_ids_mapping.json\"\n",
    "# Directory to write the drill outputs to.\n",
    "# output_directory = \"s3://deafrica-waterbodies-dev/waterbodies/v0.0.2/senegal_basin/conflux/drill_pq_files\"\n",
    "output_directory = \"test\"\n",
    "# Rerun tasks that have already been processed.\n",
    "overwrite = True"
   ]
  },
  {
   "cell_type": "code",
   "execution_count": 4,
   "id": "2ade937d-61b1-4ff6-b4de-ada9117b70b0",
   "metadata": {},
   "outputs": [],
   "source": [
    "# Set up logger.\n",
    "logging_setup(verbose)\n",
    "_log = logging.getLogger(__name__)"
   ]
  },
  {
   "cell_type": "code",
   "execution_count": 5,
   "id": "fd5f31dc-e687-4234-b985-2b609c27dc2a",
   "metadata": {},
   "outputs": [],
   "source": [
    "# Support pathlib Paths\n",
    "cachedb_file_path = str(cachedb_file_path)\n",
    "tasks_text_file = str(tasks_text_file)\n",
    "polygons_rasters_directory = str(polygons_rasters_directory)\n",
    "output_directory = str(output_directory)\n",
    "if polygon_ids_mapping_file:\n",
    "    polygon_ids_mapping_file = str(polygon_ids_mapping_file)"
   ]
  },
  {
   "cell_type": "code",
   "execution_count": 6,
   "id": "9d0e8e9a-2304-4a3d-aeeb-41c889e20ba3",
   "metadata": {},
   "outputs": [
    {
     "name": "stdout",
     "output_type": "stream",
     "text": [
      "[2023-12-12 12:25:12,049] {2585789683.py:5} INFO - Using plugin /home/jovyan/dev/deafrica-conflux/deafrica_conflux/plugins/waterbodies_timeseries.py\n"
     ]
    }
   ],
   "source": [
    "# Read the plugin as a Python module.\n",
    "module = import_module(f\"deafrica_conflux.plugins.{plugin_name}\")\n",
    "plugin_file = module.__file__\n",
    "plugin = run_plugin(plugin_file)\n",
    "_log.info(f\"Using plugin {plugin_file}\")\n",
    "validate_plugin(plugin)\n",
    "\n",
    "# Get the drill name from the plugin\n",
    "drill_name = plugin.product_name"
   ]
  },
  {
   "cell_type": "code",
   "execution_count": 7,
   "id": "f7494706-8d51-422a-aa9a-d0847352f44f",
   "metadata": {},
   "outputs": [
    {
     "name": "stdout",
     "output_type": "stream",
     "text": [
      "[2023-12-12 12:25:12,264] {credentials.py:611} INFO - Found credentials in shared credentials file: ~/.aws/credentials\n"
     ]
    }
   ],
   "source": [
    "if polygon_ids_mapping_file:\n",
    "    if not check_file_exists(polygon_ids_mapping_file):\n",
    "        _log.error(f\"File {polygon_ids_mapping_file} does not exist!\")\n",
    "        raise FileNotFoundError(f\"File {polygon_ids_mapping_file} does not exist!)\")\n",
    "\n",
    "if not check_dir_exists(polygons_rasters_directory):\n",
    "    _log.error(f\"Directory {polygons_rasters_directory} does not exist!\")\n",
    "    raise FileNotFoundError(f\"Directory {polygons_rasters_directory} does not exist!)\")\n",
    "\n",
    "# Create the output directory if it does not exist.\n",
    "if not check_dir_exists(output_directory):\n",
    "    if check_if_s3_uri(output_directory):\n",
    "        fsspec.filesystem(\"s3\").makedirs(output_directory, exist_ok=True)\n",
    "    else:\n",
    "        fsspec.filesystem(\"file\").makedirs(output_directory, exist_ok=True)\n",
    "    _log.info(f\"Created directory {output_directory}\")\n",
    "\n",
    "if not check_file_exists(cachedb_file_path):\n",
    "    _log.error(f\"Could not find the database file {cachedb_file_path}!\")\n",
    "    raise FileNotFoundError(f\"{cachedb_file_path} does not exist!\")\n",
    "else:\n",
    "    if check_if_s3_uri(cachedb_file_path):\n",
    "        cachedb_file_path = s3_download(cachedb_file_path)\n",
    "        if not check_file_exists(cachedb_file_path):\n",
    "            _log.error(f\"{cachedb_file_path} did not download!\")\n",
    "            raise FileNotFoundError(\n",
    "                f\"{cachedb_file_path} does not exist! File did not download.\"\n",
    "            )\n",
    "\n",
    "if not check_file_exists(tasks_text_file):\n",
    "    _log.error(f\"Could not find the text file {tasks_text_file}!\")\n",
    "    raise FileNotFoundError(f\"Could not find text file {tasks_text_file}!\")"
   ]
  },
  {
   "cell_type": "code",
   "execution_count": 8,
   "id": "22d2a92a-a283-4712-9a45-d110c411b2d9",
   "metadata": {},
   "outputs": [
    {
     "name": "stdout",
     "output_type": "stream",
     "text": [
      "[2023-12-12 12:25:13,378] {3293637472.py:9} INFO - Read 1715 tasks from file.\n"
     ]
    }
   ],
   "source": [
    "# Read task ids from the S3 URI or File URI.\n",
    "if check_if_s3_uri(tasks_text_file):\n",
    "    fs = fsspec.filesystem(\"s3\")\n",
    "else:\n",
    "    fs = fsspec.filesystem(\"file\")\n",
    "\n",
    "with fs.open(tasks_text_file, \"r\") as file:\n",
    "    tasks = [line.strip() for line in file]\n",
    "_log.info(f\"Read {len(tasks)} tasks from file.\")\n",
    "_log.debug(f\"Read {tasks} from file.\")"
   ]
  },
  {
   "cell_type": "code",
   "execution_count": 9,
   "id": "3ecd82ec-9a79-4b07-af8e-181de133f2e3",
   "metadata": {},
   "outputs": [],
   "source": [
    "# Read the polygons ids mapping file.\n",
    "if polygon_ids_mapping_file:\n",
    "    if check_if_s3_uri(polygon_ids_mapping_file):\n",
    "        fs = fsspec.filesystem(\"s3\")\n",
    "    else:\n",
    "        fs = fsspec.filesystem(\"file\")\n",
    "\n",
    "    with fs.open(polygon_ids_mapping_file) as f:\n",
    "        polygon_ids_mapping = json.load(f)\n",
    "else:\n",
    "    polygon_ids_mapping = {}"
   ]
  },
  {
   "cell_type": "code",
   "execution_count": 10,
   "id": "c682249c-b60d-4854-b52a-8e31c5f64710",
   "metadata": {},
   "outputs": [
    {
     "name": "stderr",
     "output_type": "stream",
     "text": [
      "/usr/local/lib/python3.10/dist-packages/datacube/utils/documents.py:216: DeprecationWarning: jsonschema.RefResolver is deprecated as of v4.18.0, in favor of the https://github.com/python-jsonschema/referencing library, which provides more compliant referencing behavior as well as more flexible APIs for customization. A future release will remove RefResolver. Please file a feature request (on referencing) if you are missing an API for the kind of customization you need.\n",
      "  ref_resolver = jsonschema.RefResolver.from_schema(\n"
     ]
    }
   ],
   "source": [
    "# Connect to the datacube\n",
    "dc = datacube.Datacube(app=\"deafrica-conflux-drill\")\n",
    "\n",
    "# Read the cache file\n",
    "cache = dscache.open_ro(cachedb_file_path)"
   ]
  },
  {
   "cell_type": "code",
   "execution_count": 11,
   "id": "1c95b85e-0a67-4d19-9f79-39c6d5c4aa99",
   "metadata": {},
   "outputs": [
    {
     "data": {
      "text/plain": [
       "['2023-03-01/171/092',\n",
       " '2023-03-01/172/092',\n",
       " '2023-03-01/172/093',\n",
       " '2023-03-01/172/094',\n",
       " '2023-03-01/172/095']"
      ]
     },
     "execution_count": 11,
     "metadata": {},
     "output_type": "execute_result"
    }
   ],
   "source": [
    "# For testing get the first ten tasks\n",
    "tasks = tasks[:5]\n",
    "tasks"
   ]
  },
  {
   "cell_type": "code",
   "execution_count": 12,
   "id": "1ba06f39-5f2f-4a8e-8b45-b1f9ac8fcd3f",
   "metadata": {},
   "outputs": [
    {
     "name": "stdout",
     "output_type": "stream",
     "text": [
      "[2023-12-12 12:25:13,794] {1205424267.py:3} INFO - Processing task 2023-03-01/171/092 (1/5)\n",
      "[2023-12-12 12:25:13,795] {drill.py:80} INFO - Finding polygon raster tile....\n",
      "[2023-12-12 12:25:13,822] {io.py:456} INFO - Found 1 GeoTIFF files.\n",
      "[2023-12-12 12:25:13,957] {drill.py:91} INFO - Loaded s3://deafrica-waterbodies-dev/waterbodies/v0.0.2/senegal_basin/conflux/historical_extent_rasters/x171_y092.tif\n",
      "[2023-12-12 12:25:13,963] {drill.py:117} INFO - Query object to use for loading data {'resampling': 'nearest', 'dask_chunks': {'x': 3200, 'y': 3200}, 'group_by': 'solar_day', 'like': GeoBox(3200, 3200, Affine(30.0, 0.0, -960000.0,\n",
      "       0.0, -30.0, 1536000.0), PROJCS[\"WGS 84 / NSIDC EASE-Grid 2.0 Global\",GEOGCS[\"WGS 84\",DATUM[\"WGS_1984\",SPHEROID[\"WGS 84\",6378137,298.257223563,AUTHORITY[\"EPSG\",\"7030\"]],AUTHORITY[\"EPSG\",\"6326\"]],PRIMEM[\"Greenwich\",0,AUTHORITY[\"EPSG\",\"8901\"]],UNIT[\"degree\",0.0174532925199433,AUTHORITY[\"EPSG\",\"9122\"]],AUTHORITY[\"EPSG\",\"4326\"]],PROJECTION[\"Cylindrical_Equal_Area\"],PARAMETER[\"standard_parallel_1\",30],PARAMETER[\"central_meridian\",0],PARAMETER[\"false_easting\",0],PARAMETER[\"false_northing\",0],UNIT[\"metre\",1,AUTHORITY[\"EPSG\",\"9001\"]],AXIS[\"Easting\",EAST],AXIS[\"Northing\",NORTH],AUTHORITY[\"EPSG\",\"6933\"]]), 'measurements': ['water'], 'datasets': [Dataset <id=6c9d5905-97b0-575a-afcc-ee9dc71039de product=wofs_ls location=s3://deafrica-services/wofs_ls/1-0-0/199/052/2023/03/01/wofs_ls_199052_2023-03-01.stac-item.json>]}\n",
      "[2023-12-12 12:25:15,150] {io.py:153} INFO - Table written to test/2023-03-01/waterbodies_x171y092_2023-03-01.pq\n",
      "[2023-12-12 12:25:15,151] {1205424267.py:41} INFO - Task 2023-03-01/171/092 successful\n",
      "[2023-12-12 12:25:15,151] {1205424267.py:3} INFO - Processing task 2023-03-01/172/092 (2/5)\n",
      "[2023-12-12 12:25:15,152] {drill.py:80} INFO - Finding polygon raster tile....\n",
      "[2023-12-12 12:25:15,179] {io.py:456} INFO - Found 1 GeoTIFF files.\n",
      "[2023-12-12 12:25:15,211] {drill.py:91} INFO - Loaded s3://deafrica-waterbodies-dev/waterbodies/v0.0.2/senegal_basin/conflux/historical_extent_rasters/x172_y092.tif\n",
      "[2023-12-12 12:25:15,213] {drill.py:117} INFO - Query object to use for loading data {'resampling': 'nearest', 'dask_chunks': {'x': 3200, 'y': 3200}, 'group_by': 'solar_day', 'like': GeoBox(3200, 3200, Affine(30.0, 0.0, -864000.0,\n",
      "       0.0, -30.0, 1536000.0), PROJCS[\"WGS 84 / NSIDC EASE-Grid 2.0 Global\",GEOGCS[\"WGS 84\",DATUM[\"WGS_1984\",SPHEROID[\"WGS 84\",6378137,298.257223563,AUTHORITY[\"EPSG\",\"7030\"]],AUTHORITY[\"EPSG\",\"6326\"]],PRIMEM[\"Greenwich\",0,AUTHORITY[\"EPSG\",\"8901\"]],UNIT[\"degree\",0.0174532925199433,AUTHORITY[\"EPSG\",\"9122\"]],AUTHORITY[\"EPSG\",\"4326\"]],PROJECTION[\"Cylindrical_Equal_Area\"],PARAMETER[\"standard_parallel_1\",30],PARAMETER[\"central_meridian\",0],PARAMETER[\"false_easting\",0],PARAMETER[\"false_northing\",0],UNIT[\"metre\",1,AUTHORITY[\"EPSG\",\"9001\"]],AXIS[\"Easting\",EAST],AXIS[\"Northing\",NORTH],AUTHORITY[\"EPSG\",\"6933\"]]), 'measurements': ['water'], 'datasets': [Dataset <id=6c9d5905-97b0-575a-afcc-ee9dc71039de product=wofs_ls location=s3://deafrica-services/wofs_ls/1-0-0/199/052/2023/03/01/wofs_ls_199052_2023-03-01.stac-item.json>]}\n",
      "[2023-12-12 12:25:15,725] {io.py:153} INFO - Table written to test/2023-03-01/waterbodies_x172y092_2023-03-01.pq\n",
      "[2023-12-12 12:25:15,725] {1205424267.py:41} INFO - Task 2023-03-01/172/092 successful\n",
      "[2023-12-12 12:25:15,726] {1205424267.py:3} INFO - Processing task 2023-03-01/172/093 (3/5)\n",
      "[2023-12-12 12:25:15,727] {drill.py:80} INFO - Finding polygon raster tile....\n",
      "[2023-12-12 12:25:15,754] {io.py:456} INFO - Found 1 GeoTIFF files.\n",
      "[2023-12-12 12:25:15,786] {drill.py:91} INFO - Loaded s3://deafrica-waterbodies-dev/waterbodies/v0.0.2/senegal_basin/conflux/historical_extent_rasters/x172_y093.tif\n",
      "[2023-12-12 12:25:15,788] {drill.py:117} INFO - Query object to use for loading data {'resampling': 'nearest', 'dask_chunks': {'x': 3200, 'y': 3200}, 'group_by': 'solar_day', 'like': GeoBox(3200, 3200, Affine(30.0, 0.0, -864000.0,\n",
      "       0.0, -30.0, 1632000.0), PROJCS[\"WGS 84 / NSIDC EASE-Grid 2.0 Global\",GEOGCS[\"WGS 84\",DATUM[\"WGS_1984\",SPHEROID[\"WGS 84\",6378137,298.257223563,AUTHORITY[\"EPSG\",\"7030\"]],AUTHORITY[\"EPSG\",\"6326\"]],PRIMEM[\"Greenwich\",0,AUTHORITY[\"EPSG\",\"8901\"]],UNIT[\"degree\",0.0174532925199433,AUTHORITY[\"EPSG\",\"9122\"]],AUTHORITY[\"EPSG\",\"4326\"]],PROJECTION[\"Cylindrical_Equal_Area\"],PARAMETER[\"standard_parallel_1\",30],PARAMETER[\"central_meridian\",0],PARAMETER[\"false_easting\",0],PARAMETER[\"false_northing\",0],UNIT[\"metre\",1,AUTHORITY[\"EPSG\",\"9001\"]],AXIS[\"Easting\",EAST],AXIS[\"Northing\",NORTH],AUTHORITY[\"EPSG\",\"6933\"]]), 'measurements': ['water'], 'datasets': [Dataset <id=6c9d5905-97b0-575a-afcc-ee9dc71039de product=wofs_ls location=s3://deafrica-services/wofs_ls/1-0-0/199/052/2023/03/01/wofs_ls_199052_2023-03-01.stac-item.json>, Dataset <id=adf4e256-58b0-5c6d-abe8-da8a5af59000 product=wofs_ls location=s3://deafrica-services/wofs_ls/1-0-0/199/051/2023/03/01/wofs_ls_199051_2023-03-01.stac-item.json>]}\n",
      "[2023-12-12 12:25:16,573] {io.py:153} INFO - Table written to test/2023-03-01/waterbodies_x172y093_2023-03-01.pq\n",
      "[2023-12-12 12:25:16,574] {1205424267.py:41} INFO - Task 2023-03-01/172/093 successful\n",
      "[2023-12-12 12:25:16,574] {1205424267.py:3} INFO - Processing task 2023-03-01/172/094 (4/5)\n",
      "[2023-12-12 12:25:16,575] {drill.py:80} INFO - Finding polygon raster tile....\n",
      "[2023-12-12 12:25:16,603] {io.py:456} INFO - Found 1 GeoTIFF files.\n",
      "[2023-12-12 12:25:16,647] {drill.py:91} INFO - Loaded s3://deafrica-waterbodies-dev/waterbodies/v0.0.2/senegal_basin/conflux/historical_extent_rasters/x172_y094.tif\n",
      "[2023-12-12 12:25:16,649] {drill.py:117} INFO - Query object to use for loading data {'resampling': 'nearest', 'dask_chunks': {'x': 3200, 'y': 3200}, 'group_by': 'solar_day', 'like': GeoBox(3200, 3200, Affine(30.0, 0.0, -864000.0,\n",
      "       0.0, -30.0, 1728000.0), PROJCS[\"WGS 84 / NSIDC EASE-Grid 2.0 Global\",GEOGCS[\"WGS 84\",DATUM[\"WGS_1984\",SPHEROID[\"WGS 84\",6378137,298.257223563,AUTHORITY[\"EPSG\",\"7030\"]],AUTHORITY[\"EPSG\",\"6326\"]],PRIMEM[\"Greenwich\",0,AUTHORITY[\"EPSG\",\"8901\"]],UNIT[\"degree\",0.0174532925199433,AUTHORITY[\"EPSG\",\"9122\"]],AUTHORITY[\"EPSG\",\"4326\"]],PROJECTION[\"Cylindrical_Equal_Area\"],PARAMETER[\"standard_parallel_1\",30],PARAMETER[\"central_meridian\",0],PARAMETER[\"false_easting\",0],PARAMETER[\"false_northing\",0],UNIT[\"metre\",1,AUTHORITY[\"EPSG\",\"9001\"]],AXIS[\"Easting\",EAST],AXIS[\"Northing\",NORTH],AUTHORITY[\"EPSG\",\"6933\"]]), 'measurements': ['water'], 'datasets': [Dataset <id=adf4e256-58b0-5c6d-abe8-da8a5af59000 product=wofs_ls location=s3://deafrica-services/wofs_ls/1-0-0/199/051/2023/03/01/wofs_ls_199051_2023-03-01.stac-item.json>, Dataset <id=8f718c66-2ad3-55d5-a7dd-1b74c28230e9 product=wofs_ls location=s3://deafrica-services/wofs_ls/1-0-0/199/050/2023/03/01/wofs_ls_199050_2023-03-01.stac-item.json>]}\n",
      "[2023-12-12 12:25:17,474] {io.py:153} INFO - Table written to test/2023-03-01/waterbodies_x172y094_2023-03-01.pq\n",
      "[2023-12-12 12:25:17,475] {1205424267.py:41} INFO - Task 2023-03-01/172/094 successful\n",
      "[2023-12-12 12:25:17,475] {1205424267.py:3} INFO - Processing task 2023-03-01/172/095 (5/5)\n",
      "[2023-12-12 12:25:17,476] {drill.py:80} INFO - Finding polygon raster tile....\n",
      "[2023-12-12 12:25:17,506] {io.py:456} INFO - Found 1 GeoTIFF files.\n",
      "[2023-12-12 12:25:17,549] {drill.py:91} INFO - Loaded s3://deafrica-waterbodies-dev/waterbodies/v0.0.2/senegal_basin/conflux/historical_extent_rasters/x172_y095.tif\n",
      "[2023-12-12 12:25:17,552] {drill.py:117} INFO - Query object to use for loading data {'resampling': 'nearest', 'dask_chunks': {'x': 3200, 'y': 3200}, 'group_by': 'solar_day', 'like': GeoBox(3200, 3200, Affine(30.0, 0.0, -864000.0,\n",
      "       0.0, -30.0, 1824000.0), PROJCS[\"WGS 84 / NSIDC EASE-Grid 2.0 Global\",GEOGCS[\"WGS 84\",DATUM[\"WGS_1984\",SPHEROID[\"WGS 84\",6378137,298.257223563,AUTHORITY[\"EPSG\",\"7030\"]],AUTHORITY[\"EPSG\",\"6326\"]],PRIMEM[\"Greenwich\",0,AUTHORITY[\"EPSG\",\"8901\"]],UNIT[\"degree\",0.0174532925199433,AUTHORITY[\"EPSG\",\"9122\"]],AUTHORITY[\"EPSG\",\"4326\"]],PROJECTION[\"Cylindrical_Equal_Area\"],PARAMETER[\"standard_parallel_1\",30],PARAMETER[\"central_meridian\",0],PARAMETER[\"false_easting\",0],PARAMETER[\"false_northing\",0],UNIT[\"metre\",1,AUTHORITY[\"EPSG\",\"9001\"]],AXIS[\"Easting\",EAST],AXIS[\"Northing\",NORTH],AUTHORITY[\"EPSG\",\"6933\"]]), 'measurements': ['water'], 'datasets': [Dataset <id=adf4e256-58b0-5c6d-abe8-da8a5af59000 product=wofs_ls location=s3://deafrica-services/wofs_ls/1-0-0/199/051/2023/03/01/wofs_ls_199051_2023-03-01.stac-item.json>, Dataset <id=8f718c66-2ad3-55d5-a7dd-1b74c28230e9 product=wofs_ls location=s3://deafrica-services/wofs_ls/1-0-0/199/050/2023/03/01/wofs_ls_199050_2023-03-01.stac-item.json>]}\n",
      "[2023-12-12 12:25:18,250] {io.py:153} INFO - Table written to test/2023-03-01/waterbodies_x172y095_2023-03-01.pq\n",
      "[2023-12-12 12:25:18,251] {1205424267.py:41} INFO - Task 2023-03-01/172/095 successful\n"
     ]
    }
   ],
   "source": [
    "failed_tasks = []\n",
    "for i, task in enumerate(tasks):\n",
    "    _log.info(f\"Processing task {task} ({i + 1}/{len(tasks)})\")\n",
    "\n",
    "    if not overwrite:\n",
    "        _log.info(f\"Checking existence of {task}\")\n",
    "        exists = table_exists(\n",
    "            drill_name=drill_name, task_id_string=task, output_directory=output_directory\n",
    "        )\n",
    "    if overwrite or not exists:\n",
    "        try:\n",
    "            # Perform the polygon drill.\n",
    "            table = drill(\n",
    "                plugin=plugin,\n",
    "                task_id_string=task,\n",
    "                cache=cache,\n",
    "                polygons_rasters_directory=polygons_rasters_directory,\n",
    "                polygon_ids_mapping=polygon_ids_mapping,\n",
    "                dc=dc,\n",
    "            )\n",
    "\n",
    "            pq_file_name = write_table_to_parquet(  # noqa F841\n",
    "                drill_name=drill_name,\n",
    "                task_id_string=task,\n",
    "                table=table,\n",
    "                output_directory=output_directory,\n",
    "            )\n",
    "        except KeyError as keyerr:\n",
    "            _log.exception(f\"Found task {task} has KeyError: {str(keyerr)}\")\n",
    "            failed_tasks = [].append(task)\n",
    "        except TypeError as typeerr:\n",
    "            _log.exception(f\"Found task {task} has TypeError: {str(typeerr)}\")\n",
    "            failed_tasks.append(task)\n",
    "        except RasterioIOError as ioerror:\n",
    "            _log.exception(f\"Found task {task} has RasterioIOError: {str(ioerror)}\")\n",
    "            failed_tasks.append(task)\n",
    "        except ValueError as valueerror:\n",
    "            _log.exception(f\"Found task {task} has ValueError: {str(valueerror)}\")\n",
    "            failed_tasks.append(task)\n",
    "        else:\n",
    "            _log.info(f\"Task {task} successful\")\n",
    "    else:\n",
    "        _log.info(f\"Drill outputs for {task} already exist, skipping\")\n",
    "\n",
    "    if failed_tasks:\n",
    "        # Write the failed dataset ids to a text file.\n",
    "        parent_folder, file_name = os.path.split(tasks_text_file)\n",
    "        file, file_extension = os.path.splitext(file_name)\n",
    "        failed_tasks_text_file = os.path.join(\n",
    "            parent_folder, file + \"_failed_tasks\" + file_extension\n",
    "        )\n",
    "\n",
    "        with fs.open(failed_tasks_text_file, \"a\") as file:\n",
    "            for task in failed_tasks:\n",
    "                file.write(f\"{task}\\n\")\n",
    "\n",
    "        _log.info(f\"Failed tasks {failed_tasks} written to: {failed_tasks_text_file}.\")"
   ]
  }
 ],
 "metadata": {
  "kernelspec": {
   "display_name": "Python 3 (ipykernel)",
   "language": "python",
   "name": "python3"
  },
  "language_info": {
   "codemirror_mode": {
    "name": "ipython",
    "version": 3
   },
   "file_extension": ".py",
   "mimetype": "text/x-python",
   "name": "python",
   "nbconvert_exporter": "python",
   "pygments_lexer": "ipython3",
   "version": "3.10.12"
  }
 },
 "nbformat": 4,
 "nbformat_minor": 5
}
